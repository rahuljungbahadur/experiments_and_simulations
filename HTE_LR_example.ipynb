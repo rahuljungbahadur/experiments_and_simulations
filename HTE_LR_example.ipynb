{
 "cells": [
  {
   "attachments": {},
   "cell_type": "markdown",
   "metadata": {},
   "source": [
    "# Heterogeneous treatment effects\n",
    "\n",
    "Example using Linear regression"
   ]
  },
  {
   "attachments": {},
   "cell_type": "markdown",
   "metadata": {},
   "source": [
    "# Import library and packages"
   ]
  },
  {
   "cell_type": "code",
   "execution_count": 1,
   "metadata": {},
   "outputs": [],
   "source": [
    "import pandas as pd\n",
    "import numpy as  np\n",
    "import matplotlib.pyplot as plt\n",
    "import seaborn as sns"
   ]
  },
  {
   "cell_type": "code",
   "execution_count": 2,
   "metadata": {},
   "outputs": [
    {
     "data": {
      "text/html": [
       "<div>\n",
       "<style scoped>\n",
       "    .dataframe tbody tr th:only-of-type {\n",
       "        vertical-align: middle;\n",
       "    }\n",
       "\n",
       "    .dataframe tbody tr th {\n",
       "        vertical-align: top;\n",
       "    }\n",
       "\n",
       "    .dataframe thead th {\n",
       "        text-align: right;\n",
       "    }\n",
       "</style>\n",
       "<table border=\"1\" class=\"dataframe\">\n",
       "  <thead>\n",
       "    <tr style=\"text-align: right;\">\n",
       "      <th></th>\n",
       "      <th>rest_id</th>\n",
       "      <th>day</th>\n",
       "      <th>month</th>\n",
       "      <th>weeday</th>\n",
       "      <th>weekend</th>\n",
       "      <th>is_holiday</th>\n",
       "      <th>is_dec</th>\n",
       "      <th>is_nov</th>\n",
       "      <th>competitors_price</th>\n",
       "      <th>discounts</th>\n",
       "      <th>sales</th>\n",
       "    </tr>\n",
       "  </thead>\n",
       "  <tbody>\n",
       "    <tr>\n",
       "      <th>0</th>\n",
       "      <td>0</td>\n",
       "      <td>1/1/2016</td>\n",
       "      <td>1</td>\n",
       "      <td>4</td>\n",
       "      <td>False</td>\n",
       "      <td>True</td>\n",
       "      <td>False</td>\n",
       "      <td>False</td>\n",
       "      <td>2.88</td>\n",
       "      <td>0</td>\n",
       "      <td>79.0</td>\n",
       "    </tr>\n",
       "    <tr>\n",
       "      <th>1</th>\n",
       "      <td>0</td>\n",
       "      <td>1/2/2016</td>\n",
       "      <td>1</td>\n",
       "      <td>5</td>\n",
       "      <td>True</td>\n",
       "      <td>False</td>\n",
       "      <td>False</td>\n",
       "      <td>False</td>\n",
       "      <td>2.64</td>\n",
       "      <td>0</td>\n",
       "      <td>57.0</td>\n",
       "    </tr>\n",
       "    <tr>\n",
       "      <th>2</th>\n",
       "      <td>0</td>\n",
       "      <td>1/3/2016</td>\n",
       "      <td>1</td>\n",
       "      <td>6</td>\n",
       "      <td>True</td>\n",
       "      <td>False</td>\n",
       "      <td>False</td>\n",
       "      <td>False</td>\n",
       "      <td>2.08</td>\n",
       "      <td>5</td>\n",
       "      <td>294.0</td>\n",
       "    </tr>\n",
       "    <tr>\n",
       "      <th>3</th>\n",
       "      <td>0</td>\n",
       "      <td>1/4/2016</td>\n",
       "      <td>1</td>\n",
       "      <td>0</td>\n",
       "      <td>False</td>\n",
       "      <td>False</td>\n",
       "      <td>False</td>\n",
       "      <td>False</td>\n",
       "      <td>3.37</td>\n",
       "      <td>15</td>\n",
       "      <td>676.5</td>\n",
       "    </tr>\n",
       "    <tr>\n",
       "      <th>4</th>\n",
       "      <td>0</td>\n",
       "      <td>1/5/2016</td>\n",
       "      <td>1</td>\n",
       "      <td>1</td>\n",
       "      <td>False</td>\n",
       "      <td>False</td>\n",
       "      <td>False</td>\n",
       "      <td>False</td>\n",
       "      <td>3.79</td>\n",
       "      <td>0</td>\n",
       "      <td>66.0</td>\n",
       "    </tr>\n",
       "  </tbody>\n",
       "</table>\n",
       "</div>"
      ],
      "text/plain": [
       "   rest_id       day  month  weeday  weekend  is_holiday  is_dec  is_nov  \\\n",
       "0        0  1/1/2016      1       4    False        True   False   False   \n",
       "1        0  1/2/2016      1       5     True       False   False   False   \n",
       "2        0  1/3/2016      1       6     True       False   False   False   \n",
       "3        0  1/4/2016      1       0    False       False   False   False   \n",
       "4        0  1/5/2016      1       1    False       False   False   False   \n",
       "\n",
       "   competitors_price  discounts  sales  \n",
       "0               2.88          0   79.0  \n",
       "1               2.64          0   57.0  \n",
       "2               2.08          5  294.0  \n",
       "3               3.37         15  676.5  \n",
       "4               3.79          0   66.0  "
      ]
     },
     "execution_count": 2,
     "metadata": {},
     "output_type": "execute_result"
    }
   ],
   "source": [
    "data = pd.read_csv('./data/daily_restaurant_sales.csv')\n",
    "data.head()"
   ]
  },
  {
   "cell_type": "code",
   "execution_count": 3,
   "metadata": {},
   "outputs": [
    {
     "data": {
      "text/html": [
       "<div>\n",
       "<style scoped>\n",
       "    .dataframe tbody tr th:only-of-type {\n",
       "        vertical-align: middle;\n",
       "    }\n",
       "\n",
       "    .dataframe tbody tr th {\n",
       "        vertical-align: top;\n",
       "    }\n",
       "\n",
       "    .dataframe thead th {\n",
       "        text-align: right;\n",
       "    }\n",
       "</style>\n",
       "<table border=\"1\" class=\"dataframe\">\n",
       "  <thead>\n",
       "    <tr style=\"text-align: right;\">\n",
       "      <th></th>\n",
       "      <th>rest_id</th>\n",
       "      <th>month</th>\n",
       "      <th>weeday</th>\n",
       "      <th>competitors_price</th>\n",
       "      <th>discounts</th>\n",
       "      <th>sales</th>\n",
       "    </tr>\n",
       "  </thead>\n",
       "  <tbody>\n",
       "    <tr>\n",
       "      <th>count</th>\n",
       "      <td>7679.00000</td>\n",
       "      <td>7679.000000</td>\n",
       "      <td>7679.000000</td>\n",
       "      <td>7679.000000</td>\n",
       "      <td>7679.00000</td>\n",
       "      <td>7679.000000</td>\n",
       "    </tr>\n",
       "    <tr>\n",
       "      <th>mean</th>\n",
       "      <td>3.00000</td>\n",
       "      <td>6.516864</td>\n",
       "      <td>3.000912</td>\n",
       "      <td>5.826608</td>\n",
       "      <td>10.28324</td>\n",
       "      <td>375.941334</td>\n",
       "    </tr>\n",
       "    <tr>\n",
       "      <th>std</th>\n",
       "      <td>2.00013</td>\n",
       "      <td>3.451664</td>\n",
       "      <td>2.001725</td>\n",
       "      <td>1.786338</td>\n",
       "      <td>9.70930</td>\n",
       "      <td>331.953960</td>\n",
       "    </tr>\n",
       "    <tr>\n",
       "      <th>min</th>\n",
       "      <td>0.00000</td>\n",
       "      <td>1.000000</td>\n",
       "      <td>0.000000</td>\n",
       "      <td>1.350000</td>\n",
       "      <td>0.00000</td>\n",
       "      <td>16.000000</td>\n",
       "    </tr>\n",
       "    <tr>\n",
       "      <th>25%</th>\n",
       "      <td>1.00000</td>\n",
       "      <td>4.000000</td>\n",
       "      <td>1.000000</td>\n",
       "      <td>4.480000</td>\n",
       "      <td>0.00000</td>\n",
       "      <td>71.000000</td>\n",
       "    </tr>\n",
       "    <tr>\n",
       "      <th>50%</th>\n",
       "      <td>3.00000</td>\n",
       "      <td>7.000000</td>\n",
       "      <td>3.000000</td>\n",
       "      <td>5.700000</td>\n",
       "      <td>10.00000</td>\n",
       "      <td>283.000000</td>\n",
       "    </tr>\n",
       "    <tr>\n",
       "      <th>75%</th>\n",
       "      <td>5.00000</td>\n",
       "      <td>10.000000</td>\n",
       "      <td>5.000000</td>\n",
       "      <td>7.120000</td>\n",
       "      <td>15.00000</td>\n",
       "      <td>551.000000</td>\n",
       "    </tr>\n",
       "    <tr>\n",
       "      <th>max</th>\n",
       "      <td>6.00000</td>\n",
       "      <td>12.000000</td>\n",
       "      <td>6.000000</td>\n",
       "      <td>9.970000</td>\n",
       "      <td>45.00000</td>\n",
       "      <td>2265.000000</td>\n",
       "    </tr>\n",
       "  </tbody>\n",
       "</table>\n",
       "</div>"
      ],
      "text/plain": [
       "          rest_id        month       weeday  competitors_price   discounts  \\\n",
       "count  7679.00000  7679.000000  7679.000000        7679.000000  7679.00000   \n",
       "mean      3.00000     6.516864     3.000912           5.826608    10.28324   \n",
       "std       2.00013     3.451664     2.001725           1.786338     9.70930   \n",
       "min       0.00000     1.000000     0.000000           1.350000     0.00000   \n",
       "25%       1.00000     4.000000     1.000000           4.480000     0.00000   \n",
       "50%       3.00000     7.000000     3.000000           5.700000    10.00000   \n",
       "75%       5.00000    10.000000     5.000000           7.120000    15.00000   \n",
       "max       6.00000    12.000000     6.000000           9.970000    45.00000   \n",
       "\n",
       "             sales  \n",
       "count  7679.000000  \n",
       "mean    375.941334  \n",
       "std     331.953960  \n",
       "min      16.000000  \n",
       "25%      71.000000  \n",
       "50%     283.000000  \n",
       "75%     551.000000  \n",
       "max    2265.000000  "
      ]
     },
     "execution_count": 3,
     "metadata": {},
     "output_type": "execute_result"
    }
   ],
   "source": [
    "data.describe()"
   ]
  },
  {
   "cell_type": "code",
   "execution_count": 4,
   "metadata": {},
   "outputs": [
    {
     "data": {
      "text/plain": [
       "<AxesSubplot:xlabel='month', ylabel='sales'>"
      ]
     },
     "execution_count": 4,
     "metadata": {},
     "output_type": "execute_result"
    },
    {
     "data": {
      "image/png": "[encoded data removed]",
      "text/plain": [
       "<Figure size 1152x576 with 1 Axes>"
      ]
     },
     "metadata": {
      "needs_background": "light"
     },
     "output_type": "display_data"
    }
   ],
   "source": [
    "plt.figure(figsize=(16,8))\n",
    "sns.lineplot(x = 'month', y = 'sales', data = data)\n",
    "sns.lineplot(x = 'month', y = 'discounts', data = data)"
   ]
  },
  {
   "attachments": {},
   "cell_type": "markdown",
   "metadata": {},
   "source": [
    "# model for CATE"
   ]
  },
  {
   "attachments": {},
   "cell_type": "markdown",
   "metadata": {},
   "source": [
    "## Simple linear model"
   ]
  },
  {
   "cell_type": "code",
   "execution_count": 5,
   "metadata": {},
   "outputs": [],
   "source": [
    "import statsmodels.formula.api as smf\n",
    "\n",
    "X = [\"C(month)\", \"C(weeday)\", \"is_holiday\", \"competitors_price\"]\n",
    "\n",
    "regr_cate = smf.ols(f\"sales ~ discounts*({'+'.join(X)})\", data=data).fit()"
   ]
  },
  {
   "cell_type": "code",
   "execution_count": 6,
   "metadata": {},
   "outputs": [
    {
     "data": {
      "text/plain": [
       "discounts:C(weeday)[T.5]        3.113530\n",
       "discounts:C(weeday)[T.6]        0.211166\n",
       "discounts:is_holiday[T.True]    2.252893\n",
       "competitors_price               0.938802\n",
       "discounts:competitors_price    -3.209731\n",
       "dtype: float64"
      ]
     },
     "execution_count": 6,
     "metadata": {},
     "output_type": "execute_result"
    }
   ],
   "source": [
    "regr_cate.params[-5:]"
   ]
  },
  {
   "attachments": {},
   "cell_type": "markdown",
   "metadata": {},
   "source": [
    "### Predicting CATE"
   ]
  },
  {
   "cell_type": "code",
   "execution_count": 55,
   "metadata": {},
   "outputs": [],
   "source": [
    "ols_cate_pred = (regr_cate.predict(data.assign(discounts=data[\"discounts\"]+1)) \n",
    "                         -regr_cate.predict(data))"
   ]
  },
  {
   "cell_type": "code",
   "execution_count": 56,
   "metadata": {},
   "outputs": [],
   "source": [
    "ols_cate_pred_2 = (regr_cate.predict(data.assign(discounts=data[\"discounts\"]+1e-8)) \n",
    "                         -regr_cate.predict(data))/(1e-8)"
   ]
  },
  {
   "cell_type": "code",
   "execution_count": 8,
   "metadata": {},
   "outputs": [
    {
     "data": {
      "text/plain": [
       "0       53.302535\n",
       "1       48.652492\n",
       "2       47.547577\n",
       "3       43.195858\n",
       "4       42.108752\n",
       "          ...    \n",
       "7674    42.197410\n",
       "7675    28.919270\n",
       "7676    38.855831\n",
       "7677    33.862166\n",
       "7678    26.322954\n",
       "Length: 7679, dtype: float64"
      ]
     },
     "execution_count": 8,
     "metadata": {},
     "output_type": "execute_result"
    }
   ],
   "source": [
    "ols_cate_pred"
   ]
  },
  {
   "cell_type": "code",
   "execution_count": 68,
   "metadata": {},
   "outputs": [
    {
     "data": {
      "text/plain": [
       "0       53.302536\n",
       "1       48.652492\n",
       "2       47.547582\n",
       "3       43.195860\n",
       "4       42.108752\n",
       "          ...    \n",
       "7674    42.197416\n",
       "7675    28.919266\n",
       "7676    38.855836\n",
       "7677    33.862165\n",
       "7678    26.322954\n",
       "Length: 7679, dtype: float64"
      ]
     },
     "execution_count": 68,
     "metadata": {},
     "output_type": "execute_result"
    }
   ],
   "source": [
    "ols_cate_pred_2"
   ]
  },
  {
   "cell_type": "code",
   "execution_count": 9,
   "metadata": {},
   "outputs": [
    {
     "data": {
      "text/html": [
       "<div>\n",
       "<style scoped>\n",
       "    .dataframe tbody tr th:only-of-type {\n",
       "        vertical-align: middle;\n",
       "    }\n",
       "\n",
       "    .dataframe tbody tr th {\n",
       "        vertical-align: top;\n",
       "    }\n",
       "\n",
       "    .dataframe thead th {\n",
       "        text-align: right;\n",
       "    }\n",
       "</style>\n",
       "<table border=\"1\" class=\"dataframe\">\n",
       "  <thead>\n",
       "    <tr style=\"text-align: right;\">\n",
       "      <th></th>\n",
       "      <th>rest_id</th>\n",
       "      <th>day</th>\n",
       "      <th>month</th>\n",
       "      <th>weeday</th>\n",
       "      <th>weekend</th>\n",
       "      <th>is_holiday</th>\n",
       "      <th>is_dec</th>\n",
       "      <th>is_nov</th>\n",
       "      <th>competitors_price</th>\n",
       "      <th>discounts</th>\n",
       "      <th>sales</th>\n",
       "      <th>pred_linear_cate</th>\n",
       "    </tr>\n",
       "  </thead>\n",
       "  <tbody>\n",
       "    <tr>\n",
       "      <th>0</th>\n",
       "      <td>0</td>\n",
       "      <td>1/1/2016</td>\n",
       "      <td>1</td>\n",
       "      <td>4</td>\n",
       "      <td>False</td>\n",
       "      <td>True</td>\n",
       "      <td>False</td>\n",
       "      <td>False</td>\n",
       "      <td>2.88</td>\n",
       "      <td>0</td>\n",
       "      <td>79.0</td>\n",
       "      <td>53.302535</td>\n",
       "    </tr>\n",
       "    <tr>\n",
       "      <th>1</th>\n",
       "      <td>0</td>\n",
       "      <td>1/2/2016</td>\n",
       "      <td>1</td>\n",
       "      <td>5</td>\n",
       "      <td>True</td>\n",
       "      <td>False</td>\n",
       "      <td>False</td>\n",
       "      <td>False</td>\n",
       "      <td>2.64</td>\n",
       "      <td>0</td>\n",
       "      <td>57.0</td>\n",
       "      <td>48.652492</td>\n",
       "    </tr>\n",
       "    <tr>\n",
       "      <th>2</th>\n",
       "      <td>0</td>\n",
       "      <td>1/3/2016</td>\n",
       "      <td>1</td>\n",
       "      <td>6</td>\n",
       "      <td>True</td>\n",
       "      <td>False</td>\n",
       "      <td>False</td>\n",
       "      <td>False</td>\n",
       "      <td>2.08</td>\n",
       "      <td>5</td>\n",
       "      <td>294.0</td>\n",
       "      <td>47.547577</td>\n",
       "    </tr>\n",
       "    <tr>\n",
       "      <th>3</th>\n",
       "      <td>0</td>\n",
       "      <td>1/4/2016</td>\n",
       "      <td>1</td>\n",
       "      <td>0</td>\n",
       "      <td>False</td>\n",
       "      <td>False</td>\n",
       "      <td>False</td>\n",
       "      <td>False</td>\n",
       "      <td>3.37</td>\n",
       "      <td>15</td>\n",
       "      <td>676.5</td>\n",
       "      <td>43.195858</td>\n",
       "    </tr>\n",
       "    <tr>\n",
       "      <th>4</th>\n",
       "      <td>0</td>\n",
       "      <td>1/5/2016</td>\n",
       "      <td>1</td>\n",
       "      <td>1</td>\n",
       "      <td>False</td>\n",
       "      <td>False</td>\n",
       "      <td>False</td>\n",
       "      <td>False</td>\n",
       "      <td>3.79</td>\n",
       "      <td>0</td>\n",
       "      <td>66.0</td>\n",
       "      <td>42.108752</td>\n",
       "    </tr>\n",
       "  </tbody>\n",
       "</table>\n",
       "</div>"
      ],
      "text/plain": [
       "   rest_id       day  month  weeday  weekend  is_holiday  is_dec  is_nov  \\\n",
       "0        0  1/1/2016      1       4    False        True   False   False   \n",
       "1        0  1/2/2016      1       5     True       False   False   False   \n",
       "2        0  1/3/2016      1       6     True       False   False   False   \n",
       "3        0  1/4/2016      1       0    False       False   False   False   \n",
       "4        0  1/5/2016      1       1    False       False   False   False   \n",
       "\n",
       "   competitors_price  discounts  sales  pred_linear_cate  \n",
       "0               2.88          0   79.0         53.302535  \n",
       "1               2.64          0   57.0         48.652492  \n",
       "2               2.08          5  294.0         47.547577  \n",
       "3               3.37         15  676.5         43.195858  \n",
       "4               3.79          0   66.0         42.108752  "
      ]
     },
     "execution_count": 9,
     "metadata": {},
     "output_type": "execute_result"
    }
   ],
   "source": [
    "data2 = (data\n",
    "         .assign(pred_linear_cate = ols_cate_pred)\n",
    "         )\n",
    "\n",
    "data2.head()"
   ]
  },
  {
   "cell_type": "code",
   "execution_count": 10,
   "metadata": {},
   "outputs": [
    {
     "data": {
      "text/plain": [
       "<AxesSubplot:ylabel='Density'>"
      ]
     },
     "execution_count": 10,
     "metadata": {},
     "output_type": "execute_result"
    },
    {
     "data": {
      "image/png": "[encoded data removed]",
      "text/plain": [
       "<Figure size 432x288 with 1 Axes>"
      ]
     },
     "metadata": {
      "needs_background": "light"
     },
     "output_type": "display_data"
    }
   ],
   "source": [
    "sns.kdeplot(regr_cate.resid)"
   ]
  },
  {
   "attachments": {},
   "cell_type": "markdown",
   "metadata": {},
   "source": [
    "# Model with non_linear terms"
   ]
  },
  {
   "cell_type": "code",
   "execution_count": 134,
   "metadata": {},
   "outputs": [],
   "source": [
    "nlr_regr_model = smf.ols(f\"sales ~ np.log(discounts+1)*({'+'.join(X)})\", data=data).fit()"
   ]
  },
  {
   "cell_type": "code",
   "execution_count": 135,
   "metadata": {},
   "outputs": [
    {
     "data": {
      "text/plain": [
       "<AxesSubplot:ylabel='Density'>"
      ]
     },
     "execution_count": 135,
     "metadata": {},
     "output_type": "execute_result"
    },
    {
     "data": {
      "image/png": "[encoded data removed]",
      "text/plain": [
       "<Figure size 432x288 with 1 Axes>"
      ]
     },
     "metadata": {
      "needs_background": "light"
     },
     "output_type": "display_data"
    }
   ],
   "source": [
    "sns.kdeplot(nlr_regr_model.resid)"
   ]
  },
  {
   "cell_type": "code",
   "execution_count": 136,
   "metadata": {},
   "outputs": [],
   "source": [
    "nlr_ols_cate_pred = (nlr_regr_model.predict(data.assign(discounts=data[\"discounts\"]+0.00001))\n",
    "                         -nlr_regr_model.predict(data))/(0.00001)"
   ]
  },
  {
   "cell_type": "code",
   "execution_count": 137,
   "metadata": {},
   "outputs": [
    {
     "data": {
      "text/plain": [
       "0       360.230514\n",
       "1       331.858823\n",
       "2        54.217970\n",
       "3        18.567618\n",
       "4       287.351463\n",
       "           ...    \n",
       "7674     18.676303\n",
       "7675     33.829267\n",
       "7676     25.146736\n",
       "7677     22.156885\n",
       "7678     10.493458\n",
       "Length: 7679, dtype: float64"
      ]
     },
     "execution_count": 137,
     "metadata": {},
     "output_type": "execute_result"
    }
   ],
   "source": [
    "nlr_ols_cate_pred"
   ]
  },
  {
   "cell_type": "code",
   "execution_count": 138,
   "metadata": {},
   "outputs": [
    {
     "data": {
      "text/html": [
       "<div>\n",
       "<style scoped>\n",
       "    .dataframe tbody tr th:only-of-type {\n",
       "        vertical-align: middle;\n",
       "    }\n",
       "\n",
       "    .dataframe tbody tr th {\n",
       "        vertical-align: top;\n",
       "    }\n",
       "\n",
       "    .dataframe thead th {\n",
       "        text-align: right;\n",
       "    }\n",
       "</style>\n",
       "<table border=\"1\" class=\"dataframe\">\n",
       "  <thead>\n",
       "    <tr style=\"text-align: right;\">\n",
       "      <th></th>\n",
       "      <th>rest_id</th>\n",
       "      <th>day</th>\n",
       "      <th>month</th>\n",
       "      <th>weeday</th>\n",
       "      <th>weekend</th>\n",
       "      <th>is_holiday</th>\n",
       "      <th>is_dec</th>\n",
       "      <th>is_nov</th>\n",
       "      <th>competitors_price</th>\n",
       "      <th>discounts</th>\n",
       "      <th>sales</th>\n",
       "      <th>pred_linear_cate</th>\n",
       "    </tr>\n",
       "  </thead>\n",
       "  <tbody>\n",
       "    <tr>\n",
       "      <th>0</th>\n",
       "      <td>0</td>\n",
       "      <td>1/1/2016</td>\n",
       "      <td>1</td>\n",
       "      <td>4</td>\n",
       "      <td>False</td>\n",
       "      <td>True</td>\n",
       "      <td>False</td>\n",
       "      <td>False</td>\n",
       "      <td>2.88</td>\n",
       "      <td>0</td>\n",
       "      <td>79.0</td>\n",
       "      <td>360.230514</td>\n",
       "    </tr>\n",
       "    <tr>\n",
       "      <th>1</th>\n",
       "      <td>0</td>\n",
       "      <td>1/2/2016</td>\n",
       "      <td>1</td>\n",
       "      <td>5</td>\n",
       "      <td>True</td>\n",
       "      <td>False</td>\n",
       "      <td>False</td>\n",
       "      <td>False</td>\n",
       "      <td>2.64</td>\n",
       "      <td>0</td>\n",
       "      <td>57.0</td>\n",
       "      <td>331.858823</td>\n",
       "    </tr>\n",
       "    <tr>\n",
       "      <th>2</th>\n",
       "      <td>0</td>\n",
       "      <td>1/3/2016</td>\n",
       "      <td>1</td>\n",
       "      <td>6</td>\n",
       "      <td>True</td>\n",
       "      <td>False</td>\n",
       "      <td>False</td>\n",
       "      <td>False</td>\n",
       "      <td>2.08</td>\n",
       "      <td>5</td>\n",
       "      <td>294.0</td>\n",
       "      <td>54.217970</td>\n",
       "    </tr>\n",
       "    <tr>\n",
       "      <th>3</th>\n",
       "      <td>0</td>\n",
       "      <td>1/4/2016</td>\n",
       "      <td>1</td>\n",
       "      <td>0</td>\n",
       "      <td>False</td>\n",
       "      <td>False</td>\n",
       "      <td>False</td>\n",
       "      <td>False</td>\n",
       "      <td>3.37</td>\n",
       "      <td>15</td>\n",
       "      <td>676.5</td>\n",
       "      <td>18.567618</td>\n",
       "    </tr>\n",
       "    <tr>\n",
       "      <th>4</th>\n",
       "      <td>0</td>\n",
       "      <td>1/5/2016</td>\n",
       "      <td>1</td>\n",
       "      <td>1</td>\n",
       "      <td>False</td>\n",
       "      <td>False</td>\n",
       "      <td>False</td>\n",
       "      <td>False</td>\n",
       "      <td>3.79</td>\n",
       "      <td>0</td>\n",
       "      <td>66.0</td>\n",
       "      <td>287.351463</td>\n",
       "    </tr>\n",
       "  </tbody>\n",
       "</table>\n",
       "</div>"
      ],
      "text/plain": [
       "   rest_id       day  month  weeday  weekend  is_holiday  is_dec  is_nov  \\\n",
       "0        0  1/1/2016      1       4    False        True   False   False   \n",
       "1        0  1/2/2016      1       5     True       False   False   False   \n",
       "2        0  1/3/2016      1       6     True       False   False   False   \n",
       "3        0  1/4/2016      1       0    False       False   False   False   \n",
       "4        0  1/5/2016      1       1    False       False   False   False   \n",
       "\n",
       "   competitors_price  discounts  sales  pred_linear_cate  \n",
       "0               2.88          0   79.0        360.230514  \n",
       "1               2.64          0   57.0        331.858823  \n",
       "2               2.08          5  294.0         54.217970  \n",
       "3               3.37         15  676.5         18.567618  \n",
       "4               3.79          0   66.0        287.351463  "
      ]
     },
     "execution_count": 138,
     "metadata": {},
     "output_type": "execute_result"
    }
   ],
   "source": [
    "data3 = (data\n",
    "         .assign(pred_linear_cate = nlr_ols_cate_pred)\n",
    "         )\n",
    "\n",
    "data3.head()"
   ]
  },
  {
   "attachments": {},
   "cell_type": "markdown",
   "metadata": {},
   "source": [
    "# $\\hat{\\beta} = \\frac{\\sum{(t_i - \\bar{t})*(y_i - \\bar{y})}}{\\sum{(t_i - \\bar{t})^2}}$"
   ]
  },
  {
   "cell_type": "code",
   "execution_count": null,
   "metadata": {},
   "outputs": [],
   "source": []
  }
 ],
 "metadata": {
  "kernelspec": {
   "display_name": "bmcp",
   "language": "python",
   "name": "python3"
  },
  "language_info": {
   "codemirror_mode": {
    "name": "ipython",
    "version": 3
   },
   "file_extension": ".py",
   "mimetype": "text/x-python",
   "name": "python",
   "nbconvert_exporter": "python",
   "pygments_lexer": "ipython3",
   "version": "3.9.6"
  },
  "orig_nbformat": 4,
  "vscode": {
   "interpreter": {
    "hash": "f0408d725bed6ff71e921c98a42ce071c81b50df81d93f3a08b17077d7bbf226"
   }
  }
 },
 "nbformat": 4,
 "nbformat_minor": 2
}
