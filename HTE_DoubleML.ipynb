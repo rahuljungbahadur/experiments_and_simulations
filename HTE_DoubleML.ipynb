{
 "cells": [
  {
   "cell_type": "code",
   "execution_count": 3,
   "metadata": {},
   "outputs": [],
   "source": [
    "import pandas as pd\n",
    "import numpy as np\n",
    "import matplotlib.pyplot as plt\n",
    "import seaborn as sns\n",
    "from sklearn.model_selection import cross_val_predict, train_test_split\n",
    "from lightgbm import LGBMRegressor\n"
   ]
  },
  {
   "cell_type": "code",
   "execution_count": 2,
   "metadata": {},
   "outputs": [],
   "source": [
    "data = pd.read_csv('./data/daily_restaurant_sales.csv')\n",
    "train, test = train_test_split(data, test_size=0.25)"
   ]
  },
  {
   "cell_type": "code",
   "execution_count": 4,
   "metadata": {},
   "outputs": [],
   "source": [
    "X = [\"month\", \"weeday\", \"is_holiday\", \"competitors_price\"]\n",
    "T = \"discounts\"\n",
    "y = \"sales\"\n",
    "debias_m = LGBMRegressor()\n",
    "denoise_m = LGBMRegressor()\n",
    "t_res =  train[T] - cross_val_predict(debias_m, train[X], train[T], cv=5)\n",
    "y_res =  train[y] - cross_val_predict(denoise_m, train[X], train[y], cv=5)\n",
    "         "
   ]
  },
  {
   "attachments": {},
   "cell_type": "markdown",
   "metadata": {},
   "source": [
    "# Treatment effects"
   ]
  },
  {
   "cell_type": "code",
   "execution_count": 5,
   "metadata": {},
   "outputs": [
    {
     "data": {
      "text/html": [
       "<table class=\"simpletable\">\n",
       "<tr>\n",
       "      <td></td>         <th>coef</th>     <th>std err</th>      <th>t</th>      <th>P>|t|</th>  <th>[0.025</th>    <th>0.975]</th>  \n",
       "</tr>\n",
       "<tr>\n",
       "  <th>discounts</th> <td>   31.6507</td> <td>    0.136</td> <td>  231.882</td> <td> 0.000</td> <td>   31.383</td> <td>   31.918</td>\n",
       "</tr>\n",
       "</table>"
      ],
      "text/plain": [
       "<class 'statsmodels.iolib.table.SimpleTable'>"
      ]
     },
     "execution_count": 5,
     "metadata": {},
     "output_type": "execute_result"
    }
   ],
   "source": [
    "import statsmodels.api as sm\n",
    "\n",
    "sm.OLS(y_res, t_res).fit().summary().tables[1]"
   ]
  },
  {
   "attachments": {},
   "cell_type": "markdown",
   "metadata": {},
   "source": [
    "# Double ML for CATE estimation"
   ]
  },
  {
   "attachments": {},
   "cell_type": "markdown",
   "metadata": {},
   "source": [
    "<math xmlns=\"http://www.w3.org/1998/Math/MathML\" display=\"block\">\n",
    "  <mrow>\n",
    "    <msub><mover accent=\"true\"><mi>L</mi> <mo>^</mo></mover> <mi>n</mi> </msub>\n",
    "    <mrow>\n",
    "      <mo>(</mo>\n",
    "      <mi>τ</mi>\n",
    "      <mrow>\n",
    "        <mo>(</mo>\n",
    "        <mi>x</mi>\n",
    "        <mo>)</mo>\n",
    "      </mrow>\n",
    "      <mo>)</mo>\n",
    "    </mrow>\n",
    "    <mo>=</mo>\n",
    "    <mfrac><mn>1</mn> <mi>n</mi></mfrac>\n",
    "    <munderover><mo>∑</mo> <mrow><mi>i</mi><mo>=</mo><mn>1</mn></mrow> <mi>n</mi> </munderover>\n",
    "    <msubsup><mover accent=\"true\"><mi>T</mi> <mo>˜</mo></mover> <mi>i</mi> <mn>2</mn> </msubsup>\n",
    "    <msup><mfenced separators=\"\" open=\"(\" close=\")\"><mfrac><msub><mover accent=\"true\"><mi>Y</mi> <mo>˜</mo></mover> <mi>i</mi> </msub> <msub><mover accent=\"true\"><mi>T</mi> <mo>˜</mo></mover> <mi>i</mi> </msub></mfrac><mo>-</mo><mi>τ</mi><mrow><mo>(</mo><msub><mi>X</mi> <mi>i</mi> </msub><mo>)</mo></mrow></mfenced> <mn>2</mn> </msup>\n",
    "  </mrow>\n",
    "</math>"
   ]
  },
  {
   "cell_type": "code",
   "execution_count": 7,
   "metadata": {},
   "outputs": [],
   "source": [
    "y_star = y_res/t_res\n",
    "w = t_res**2\n",
    "cate_model = LGBMRegressor().fit(train[X], y_star, sample_weight=w)\n",
    "test_r_learner_pred = test.assign(cate = cate_model.predict(test[X]))"
   ]
  },
  {
   "cell_type": "code",
   "execution_count": 9,
   "metadata": {},
   "outputs": [
    {
     "data": {
      "text/plain": [
       "<AxesSubplot:xlabel='discounts', ylabel='Density'>"
      ]
     },
     "execution_count": 9,
     "metadata": {},
     "output_type": "execute_result"
    },
    {
     "data": {
      "image/png": "[encoded data removed]",
      "text/plain": [
       "<Figure size 432x288 with 1 Axes>"
      ]
     },
     "metadata": {
      "needs_background": "light"
     },
     "output_type": "display_data"
    }
   ],
   "source": [
    "sns.kdeplot(t_res)\n",
    "sns.kdeplot(y_res)"
   ]
  },
  {
   "cell_type": "code",
   "execution_count": 8,
   "metadata": {},
   "outputs": [
    {
     "data": {
      "text/html": [
       "<div>\n",
       "<style scoped>\n",
       "    .dataframe tbody tr th:only-of-type {\n",
       "        vertical-align: middle;\n",
       "    }\n",
       "\n",
       "    .dataframe tbody tr th {\n",
       "        vertical-align: top;\n",
       "    }\n",
       "\n",
       "    .dataframe thead th {\n",
       "        text-align: right;\n",
       "    }\n",
       "</style>\n",
       "<table border=\"1\" class=\"dataframe\">\n",
       "  <thead>\n",
       "    <tr style=\"text-align: right;\">\n",
       "      <th></th>\n",
       "      <th>rest_id</th>\n",
       "      <th>day</th>\n",
       "      <th>month</th>\n",
       "      <th>weeday</th>\n",
       "      <th>weekend</th>\n",
       "      <th>is_holiday</th>\n",
       "      <th>is_dec</th>\n",
       "      <th>is_nov</th>\n",
       "      <th>competitors_price</th>\n",
       "      <th>discounts</th>\n",
       "      <th>sales</th>\n",
       "      <th>cate</th>\n",
       "    </tr>\n",
       "  </thead>\n",
       "  <tbody>\n",
       "    <tr>\n",
       "      <th>869</th>\n",
       "      <td>0</td>\n",
       "      <td>5/19/2018</td>\n",
       "      <td>5</td>\n",
       "      <td>5</td>\n",
       "      <td>True</td>\n",
       "      <td>False</td>\n",
       "      <td>False</td>\n",
       "      <td>False</td>\n",
       "      <td>3.51</td>\n",
       "      <td>0</td>\n",
       "      <td>51.0</td>\n",
       "      <td>36.416645</td>\n",
       "    </tr>\n",
       "    <tr>\n",
       "      <th>3709</th>\n",
       "      <td>3</td>\n",
       "      <td>2/22/2017</td>\n",
       "      <td>2</td>\n",
       "      <td>2</td>\n",
       "      <td>False</td>\n",
       "      <td>False</td>\n",
       "      <td>False</td>\n",
       "      <td>False</td>\n",
       "      <td>5.88</td>\n",
       "      <td>15</td>\n",
       "      <td>449.5</td>\n",
       "      <td>27.075252</td>\n",
       "    </tr>\n",
       "    <tr>\n",
       "      <th>1684</th>\n",
       "      <td>1</td>\n",
       "      <td>8/10/2017</td>\n",
       "      <td>8</td>\n",
       "      <td>3</td>\n",
       "      <td>False</td>\n",
       "      <td>False</td>\n",
       "      <td>False</td>\n",
       "      <td>False</td>\n",
       "      <td>3.53</td>\n",
       "      <td>10</td>\n",
       "      <td>379.0</td>\n",
       "      <td>34.931657</td>\n",
       "    </tr>\n",
       "    <tr>\n",
       "      <th>535</th>\n",
       "      <td>0</td>\n",
       "      <td>6/19/2017</td>\n",
       "      <td>6</td>\n",
       "      <td>0</td>\n",
       "      <td>False</td>\n",
       "      <td>False</td>\n",
       "      <td>False</td>\n",
       "      <td>False</td>\n",
       "      <td>5.43</td>\n",
       "      <td>30</td>\n",
       "      <td>600.0</td>\n",
       "      <td>26.285649</td>\n",
       "    </tr>\n",
       "    <tr>\n",
       "      <th>2970</th>\n",
       "      <td>2</td>\n",
       "      <td>2/15/2018</td>\n",
       "      <td>2</td>\n",
       "      <td>3</td>\n",
       "      <td>False</td>\n",
       "      <td>False</td>\n",
       "      <td>False</td>\n",
       "      <td>False</td>\n",
       "      <td>5.39</td>\n",
       "      <td>30</td>\n",
       "      <td>1172.0</td>\n",
       "      <td>33.233101</td>\n",
       "    </tr>\n",
       "    <tr>\n",
       "      <th>...</th>\n",
       "      <td>...</td>\n",
       "      <td>...</td>\n",
       "      <td>...</td>\n",
       "      <td>...</td>\n",
       "      <td>...</td>\n",
       "      <td>...</td>\n",
       "      <td>...</td>\n",
       "      <td>...</td>\n",
       "      <td>...</td>\n",
       "      <td>...</td>\n",
       "      <td>...</td>\n",
       "      <td>...</td>\n",
       "    </tr>\n",
       "    <tr>\n",
       "      <th>1004</th>\n",
       "      <td>0</td>\n",
       "      <td>10/1/2018</td>\n",
       "      <td>10</td>\n",
       "      <td>0</td>\n",
       "      <td>False</td>\n",
       "      <td>False</td>\n",
       "      <td>False</td>\n",
       "      <td>False</td>\n",
       "      <td>6.57</td>\n",
       "      <td>40</td>\n",
       "      <td>1059.0</td>\n",
       "      <td>29.636657</td>\n",
       "    </tr>\n",
       "    <tr>\n",
       "      <th>451</th>\n",
       "      <td>0</td>\n",
       "      <td>3/27/2017</td>\n",
       "      <td>3</td>\n",
       "      <td>0</td>\n",
       "      <td>False</td>\n",
       "      <td>False</td>\n",
       "      <td>False</td>\n",
       "      <td>False</td>\n",
       "      <td>5.75</td>\n",
       "      <td>15</td>\n",
       "      <td>429.0</td>\n",
       "      <td>28.486966</td>\n",
       "    </tr>\n",
       "    <tr>\n",
       "      <th>2260</th>\n",
       "      <td>2</td>\n",
       "      <td>3/7/2016</td>\n",
       "      <td>3</td>\n",
       "      <td>0</td>\n",
       "      <td>False</td>\n",
       "      <td>False</td>\n",
       "      <td>False</td>\n",
       "      <td>False</td>\n",
       "      <td>9.17</td>\n",
       "      <td>0</td>\n",
       "      <td>36.0</td>\n",
       "      <td>18.379234</td>\n",
       "    </tr>\n",
       "    <tr>\n",
       "      <th>5808</th>\n",
       "      <td>5</td>\n",
       "      <td>11/19/2016</td>\n",
       "      <td>11</td>\n",
       "      <td>5</td>\n",
       "      <td>True</td>\n",
       "      <td>False</td>\n",
       "      <td>False</td>\n",
       "      <td>True</td>\n",
       "      <td>6.02</td>\n",
       "      <td>15</td>\n",
       "      <td>607.0</td>\n",
       "      <td>35.185523</td>\n",
       "    </tr>\n",
       "    <tr>\n",
       "      <th>2984</th>\n",
       "      <td>2</td>\n",
       "      <td>3/1/2018</td>\n",
       "      <td>3</td>\n",
       "      <td>3</td>\n",
       "      <td>False</td>\n",
       "      <td>False</td>\n",
       "      <td>False</td>\n",
       "      <td>False</td>\n",
       "      <td>9.74</td>\n",
       "      <td>0</td>\n",
       "      <td>44.0</td>\n",
       "      <td>18.570665</td>\n",
       "    </tr>\n",
       "  </tbody>\n",
       "</table>\n",
       "<p>1920 rows × 12 columns</p>\n",
       "</div>"
      ],
      "text/plain": [
       "      rest_id         day  month  weeday  weekend  is_holiday  is_dec  is_nov  \\\n",
       "869         0   5/19/2018      5       5     True       False   False   False   \n",
       "3709        3   2/22/2017      2       2    False       False   False   False   \n",
       "1684        1   8/10/2017      8       3    False       False   False   False   \n",
       "535         0   6/19/2017      6       0    False       False   False   False   \n",
       "2970        2   2/15/2018      2       3    False       False   False   False   \n",
       "...       ...         ...    ...     ...      ...         ...     ...     ...   \n",
       "1004        0   10/1/2018     10       0    False       False   False   False   \n",
       "451         0   3/27/2017      3       0    False       False   False   False   \n",
       "2260        2    3/7/2016      3       0    False       False   False   False   \n",
       "5808        5  11/19/2016     11       5     True       False   False    True   \n",
       "2984        2    3/1/2018      3       3    False       False   False   False   \n",
       "\n",
       "      competitors_price  discounts   sales       cate  \n",
       "869                3.51          0    51.0  36.416645  \n",
       "3709               5.88         15   449.5  27.075252  \n",
       "1684               3.53         10   379.0  34.931657  \n",
       "535                5.43         30   600.0  26.285649  \n",
       "2970               5.39         30  1172.0  33.233101  \n",
       "...                 ...        ...     ...        ...  \n",
       "1004               6.57         40  1059.0  29.636657  \n",
       "451                5.75         15   429.0  28.486966  \n",
       "2260               9.17          0    36.0  18.379234  \n",
       "5808               6.02         15   607.0  35.185523  \n",
       "2984               9.74          0    44.0  18.570665  \n",
       "\n",
       "[1920 rows x 12 columns]"
      ]
     },
     "execution_count": 8,
     "metadata": {},
     "output_type": "execute_result"
    }
   ],
   "source": [
    "test_r_learner_pred"
   ]
  },
  {
   "cell_type": "code",
   "execution_count": 10,
   "metadata": {},
   "outputs": [
    {
     "ename": "NameError",
     "evalue": "name 'df_res' is not defined",
     "output_type": "error",
     "traceback": [
      "\u001b[1;31m---------------------------------------------------------------------------\u001b[0m",
      "\u001b[1;31mNameError\u001b[0m                                 Traceback (most recent call last)",
      "\u001b[1;32mC:\\Users\\USBAHA~1\\AppData\\Local\\Temp/ipykernel_23380/2984582387.py\u001b[0m in \u001b[0;36m<module>\u001b[1;34m\u001b[0m\n\u001b[0;32m      1\u001b[0m \u001b[1;32mimport\u001b[0m \u001b[0mstatsmodels\u001b[0m\u001b[1;33m.\u001b[0m\u001b[0mformula\u001b[0m\u001b[1;33m.\u001b[0m\u001b[0mapi\u001b[0m \u001b[1;32mas\u001b[0m \u001b[0msmf\u001b[0m\u001b[1;33m\u001b[0m\u001b[1;33m\u001b[0m\u001b[0m\n\u001b[0;32m      2\u001b[0m \u001b[1;33m\u001b[0m\u001b[0m\n\u001b[1;32m----> 3\u001b[1;33m \u001b[0msmf\u001b[0m\u001b[1;33m.\u001b[0m\u001b[0mols\u001b[0m\u001b[1;33m(\u001b[0m\u001b[1;34m\"y_res~t_res\"\u001b[0m\u001b[1;33m,\u001b[0m \u001b[0mdata\u001b[0m\u001b[1;33m=\u001b[0m\u001b[0mdf_res\u001b[0m\u001b[1;33m)\u001b[0m\u001b[1;33m.\u001b[0m\u001b[0mfit\u001b[0m\u001b[1;33m(\u001b[0m\u001b[1;33m)\u001b[0m\u001b[1;33m.\u001b[0m\u001b[0mparams\u001b[0m\u001b[1;33m[\u001b[0m\u001b[1;34m\"t_res\"\u001b[0m\u001b[1;33m]\u001b[0m\u001b[1;33m\u001b[0m\u001b[1;33m\u001b[0m\u001b[0m\n\u001b[0m",
      "\u001b[1;31mNameError\u001b[0m: name 'df_res' is not defined"
     ]
    }
   ],
   "source": [
    "import statsmodels.formula.api as smf\n",
    "\n",
    "smf.ols(\"y_res~t_res\", data=df_res).fit().params[\"t_res\"]"
   ]
  },
  {
   "cell_type": "code",
   "execution_count": null,
   "metadata": {},
   "outputs": [],
   "source": []
  }
 ],
 "metadata": {
  "kernelspec": {
   "display_name": "Python 3",
   "language": "python",
   "name": "python3"
  },
  "language_info": {
   "codemirror_mode": {
    "name": "ipython",
    "version": 3
   },
   "file_extension": ".py",
   "mimetype": "text/x-python",
   "name": "python",
   "nbconvert_exporter": "python",
   "pygments_lexer": "ipython3",
   "version": "3.9.13"
  },
  "orig_nbformat": 4,
  "vscode": {
   "interpreter": {
    "hash": "89a99b3329cfdb59b8a91c37d064deef12747dae52f9a64fcba9139da55e6b46"
   }
  }
 },
 "nbformat": 4,
 "nbformat_minor": 2
}
